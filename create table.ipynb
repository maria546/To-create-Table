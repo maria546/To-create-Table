{
 "cells": [
  {
   "cell_type": "code",
   "execution_count": 3,
   "metadata": {
    "scrolled": true
   },
   "outputs": [
    {
     "name": "stdout",
     "output_type": "stream",
     "text": [
      "Enter any num5\n",
      "5 X 1 5\n",
      "5 X 2 10\n",
      "5 X 3 15\n",
      "5 X 4 20\n",
      "5 X 5 25\n",
      "5 X 6 30\n",
      "5 X 7 35\n",
      "5 X 8 40\n",
      "5 X 9 45\n",
      "5 X 10 50\n"
     ]
    }
   ],
   "source": [
    "tab = int(input(\"Enter any num\"))\n",
    "for i in range(1,11):\n",
    "    print(tab,\"X\",i,(tab*i))"
   ]
  },
  {
   "cell_type": "code",
   "execution_count": 7,
   "metadata": {},
   "outputs": [
    {
     "name": "stdout",
     "output_type": "stream",
     "text": [
      "Enter any num5\n",
      "5 X 1 = 5\n",
      "5 X 2 = 10\n",
      "5 X 3 = 15\n",
      "5 X 4 = 20\n",
      "5 X 5 = 25\n",
      "5 X 6 = 30\n",
      "5 X 7 = 35\n",
      "5 X 8 = 40\n",
      "5 X 9 = 45\n",
      "5 X 10 = 50\n"
     ]
    }
   ],
   "source": [
    "tab = int(input(\"Enter any num\"))\n",
    "for i in range(1,11):\n",
    "    print(\"%d X %d = %d\" %(tab,i,tab*i))"
   ]
  },
  {
   "cell_type": "code",
   "execution_count": null,
   "metadata": {},
   "outputs": [],
   "source": []
  }
 ],
 "metadata": {
  "kernelspec": {
   "display_name": "Python 3",
   "language": "python",
   "name": "python3"
  },
  "language_info": {
   "codemirror_mode": {
    "name": "ipython",
    "version": 3
   },
   "file_extension": ".py",
   "mimetype": "text/x-python",
   "name": "python",
   "nbconvert_exporter": "python",
   "pygments_lexer": "ipython3",
   "version": "3.7.4"
  }
 },
 "nbformat": 4,
 "nbformat_minor": 2
}
